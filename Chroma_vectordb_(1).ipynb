{
  "nbformat": 4,
  "nbformat_minor": 0,
  "metadata": {
    "colab": {
      "provenance": [],
      "include_colab_link": true
    },
    "kernelspec": {
      "name": "python3",
      "display_name": "Python 3"
    },
    "language_info": {
      "name": "python"
    }
  },
  "cells": [
    {
      "cell_type": "markdown",
      "metadata": {
        "id": "view-in-github",
        "colab_type": "text"
      },
      "source": [
        "<a href=\"https://colab.research.google.com/github/RuwanthiLakshika/Vector-Databases-ChromaDB/blob/main/Chroma_vectordb_(1).ipynb\" target=\"_parent\"><img src=\"https://colab.research.google.com/assets/colab-badge.svg\" alt=\"Open In Colab\"/></a>"
      ]
    },
    {
      "cell_type": "code",
      "execution_count": null,
      "metadata": {
        "colab": {
          "base_uri": "https://localhost:8080/"
        },
        "id": "-EHOqFUxYE8Y",
        "outputId": "33d23642-85c3-4dca-9a5f-d81f8999eb71"
      },
      "outputs": [
        {
          "output_type": "stream",
          "name": "stdout",
          "text": [
            "\u001b[2K     \u001b[90m━━━━━━━━━━━━━━━━━━━━━━━━━━━━━━━━━━━━━━━━\u001b[0m \u001b[32m559.5/559.5 kB\u001b[0m \u001b[31m4.8 MB/s\u001b[0m eta \u001b[36m0:00:00\u001b[0m\n",
            "\u001b[2K     \u001b[90m━━━━━━━━━━━━━━━━━━━━━━━━━━━━━━━━━━━━━━━━\u001b[0m \u001b[32m2.4/2.4 MB\u001b[0m \u001b[31m12.4 MB/s\u001b[0m eta \u001b[36m0:00:00\u001b[0m\n",
            "\u001b[2K     \u001b[90m━━━━━━━━━━━━━━━━━━━━━━━━━━━━━━━━━━━━━━━━\u001b[0m \u001b[32m92.0/92.0 kB\u001b[0m \u001b[31m4.7 MB/s\u001b[0m eta \u001b[36m0:00:00\u001b[0m\n",
            "\u001b[2K     \u001b[90m━━━━━━━━━━━━━━━━━━━━━━━━━━━━━━━━━━━━━━━━\u001b[0m \u001b[32m62.4/62.4 kB\u001b[0m \u001b[31m3.7 MB/s\u001b[0m eta \u001b[36m0:00:00\u001b[0m\n",
            "\u001b[2K     \u001b[90m━━━━━━━━━━━━━━━━━━━━━━━━━━━━━━━━━━━━━━━━\u001b[0m \u001b[32m41.3/41.3 kB\u001b[0m \u001b[31m3.2 MB/s\u001b[0m eta \u001b[36m0:00:00\u001b[0m\n",
            "\u001b[2K     \u001b[90m━━━━━━━━━━━━━━━━━━━━━━━━━━━━━━━━━━━━━━━━\u001b[0m \u001b[32m6.8/6.8 MB\u001b[0m \u001b[31m28.8 MB/s\u001b[0m eta \u001b[36m0:00:00\u001b[0m\n",
            "\u001b[2K     \u001b[90m━━━━━━━━━━━━━━━━━━━━━━━━━━━━━━━━━━━━━━━━\u001b[0m \u001b[32m59.9/59.9 kB\u001b[0m \u001b[31m3.7 MB/s\u001b[0m eta \u001b[36m0:00:00\u001b[0m\n",
            "\u001b[2K     \u001b[90m━━━━━━━━━━━━━━━━━━━━━━━━━━━━━━━━━━━━━━━━\u001b[0m \u001b[32m107.0/107.0 kB\u001b[0m \u001b[31m4.1 MB/s\u001b[0m eta \u001b[36m0:00:00\u001b[0m\n",
            "\u001b[2K     \u001b[90m━━━━━━━━━━━━━━━━━━━━━━━━━━━━━━━━━━━━━━━━\u001b[0m \u001b[32m67.3/67.3 kB\u001b[0m \u001b[31m4.6 MB/s\u001b[0m eta \u001b[36m0:00:00\u001b[0m\n",
            "\u001b[?25h  Installing build dependencies ... \u001b[?25l\u001b[?25hdone\n",
            "  Getting requirements to build wheel ... \u001b[?25l\u001b[?25hdone\n",
            "  Preparing metadata (pyproject.toml) ... \u001b[?25l\u001b[?25hdone\n",
            "\u001b[2K     \u001b[90m━━━━━━━━━━━━━━━━━━━━━━━━━━━━━━━━━━━━━━━━\u001b[0m \u001b[32m283.7/283.7 kB\u001b[0m \u001b[31m29.9 MB/s\u001b[0m eta \u001b[36m0:00:00\u001b[0m\n",
            "\u001b[2K     \u001b[90m━━━━━━━━━━━━━━━━━━━━━━━━━━━━━━━━━━━━━━━━\u001b[0m \u001b[32m1.7/1.7 MB\u001b[0m \u001b[31m46.4 MB/s\u001b[0m eta \u001b[36m0:00:00\u001b[0m\n",
            "\u001b[2K     \u001b[90m━━━━━━━━━━━━━━━━━━━━━━━━━━━━━━━━━━━━━━━━\u001b[0m \u001b[32m67.6/67.6 kB\u001b[0m \u001b[31m7.8 MB/s\u001b[0m eta \u001b[36m0:00:00\u001b[0m\n",
            "\u001b[2K     \u001b[90m━━━━━━━━━━━━━━━━━━━━━━━━━━━━━━━━━━━━━━━━\u001b[0m \u001b[32m145.0/145.0 kB\u001b[0m \u001b[31m8.3 MB/s\u001b[0m eta \u001b[36m0:00:00\u001b[0m\n",
            "\u001b[2K     \u001b[90m━━━━━━━━━━━━━━━━━━━━━━━━━━━━━━━━━━━━━━━━\u001b[0m \u001b[32m75.6/75.6 kB\u001b[0m \u001b[31m7.3 MB/s\u001b[0m eta \u001b[36m0:00:00\u001b[0m\n",
            "\u001b[2K     \u001b[90m━━━━━━━━━━━━━━━━━━━━━━━━━━━━━━━━━━━━━━━━\u001b[0m \u001b[32m71.9/71.9 kB\u001b[0m \u001b[31m2.2 MB/s\u001b[0m eta \u001b[36m0:00:00\u001b[0m\n",
            "\u001b[2K     \u001b[90m━━━━━━━━━━━━━━━━━━━━━━━━━━━━━━━━━━━━━━━━\u001b[0m \u001b[32m53.6/53.6 kB\u001b[0m \u001b[31m4.6 MB/s\u001b[0m eta \u001b[36m0:00:00\u001b[0m\n",
            "\u001b[2K     \u001b[90m━━━━━━━━━━━━━━━━━━━━━━━━━━━━━━━━━━━━━━━━\u001b[0m \u001b[32m77.9/77.9 kB\u001b[0m \u001b[31m3.7 MB/s\u001b[0m eta \u001b[36m0:00:00\u001b[0m\n",
            "\u001b[2K     \u001b[90m━━━━━━━━━━━━━━━━━━━━━━━━━━━━━━━━━━━━━━━━\u001b[0m \u001b[32m58.3/58.3 kB\u001b[0m \u001b[31m4.2 MB/s\u001b[0m eta \u001b[36m0:00:00\u001b[0m\n",
            "\u001b[2K     \u001b[90m━━━━━━━━━━━━━━━━━━━━━━━━━━━━━━━━━━━━━━━━\u001b[0m \u001b[32m46.0/46.0 kB\u001b[0m \u001b[31m1.9 MB/s\u001b[0m eta \u001b[36m0:00:00\u001b[0m\n",
            "\u001b[2K     \u001b[90m━━━━━━━━━━━━━━━━━━━━━━━━━━━━━━━━━━━━━━━━\u001b[0m \u001b[32m52.5/52.5 kB\u001b[0m \u001b[31m5.7 MB/s\u001b[0m eta \u001b[36m0:00:00\u001b[0m\n",
            "\u001b[2K     \u001b[90m━━━━━━━━━━━━━━━━━━━━━━━━━━━━━━━━━━━━━━━━\u001b[0m \u001b[32m130.5/130.5 kB\u001b[0m \u001b[31m14.0 MB/s\u001b[0m eta \u001b[36m0:00:00\u001b[0m\n",
            "\u001b[2K     \u001b[90m━━━━━━━━━━━━━━━━━━━━━━━━━━━━━━━━━━━━━━━━\u001b[0m \u001b[32m341.4/341.4 kB\u001b[0m \u001b[31m31.1 MB/s\u001b[0m eta \u001b[36m0:00:00\u001b[0m\n",
            "\u001b[2K     \u001b[90m━━━━━━━━━━━━━━━━━━━━━━━━━━━━━━━━━━━━━━━━\u001b[0m \u001b[32m3.4/3.4 MB\u001b[0m \u001b[31m57.4 MB/s\u001b[0m eta \u001b[36m0:00:00\u001b[0m\n",
            "\u001b[2K     \u001b[90m━━━━━━━━━━━━━━━━━━━━━━━━━━━━━━━━━━━━━━━━\u001b[0m \u001b[32m1.2/1.2 MB\u001b[0m \u001b[31m62.0 MB/s\u001b[0m eta \u001b[36m0:00:00\u001b[0m\n",
            "\u001b[2K     \u001b[90m━━━━━━━━━━━━━━━━━━━━━━━━━━━━━━━━━━━━━━━━\u001b[0m \u001b[32m130.2/130.2 kB\u001b[0m \u001b[31m15.4 MB/s\u001b[0m eta \u001b[36m0:00:00\u001b[0m\n",
            "\u001b[2K     \u001b[90m━━━━━━━━━━━━━━━━━━━━━━━━━━━━━━━━━━━━━━━━\u001b[0m \u001b[32m307.7/307.7 kB\u001b[0m \u001b[31m28.0 MB/s\u001b[0m eta \u001b[36m0:00:00\u001b[0m\n",
            "\u001b[2K     \u001b[90m━━━━━━━━━━━━━━━━━━━━━━━━━━━━━━━━━━━━━━━━\u001b[0m \u001b[32m86.8/86.8 kB\u001b[0m \u001b[31m9.8 MB/s\u001b[0m eta \u001b[36m0:00:00\u001b[0m\n",
            "\u001b[?25h  Building wheel for pypika (pyproject.toml) ... \u001b[?25l\u001b[?25hdone\n"
          ]
        }
      ],
      "source": [
        "!pip install chromadb -q"
      ]
    },
    {
      "cell_type": "code",
      "source": [
        "# create chromadb client\n",
        "\n",
        "import chromadb\n",
        "\n",
        "client = chromadb.Client()"
      ],
      "metadata": {
        "id": "IiASu8snYdye"
      },
      "execution_count": null,
      "outputs": []
    },
    {
      "cell_type": "code",
      "source": [
        "client"
      ],
      "metadata": {
        "colab": {
          "base_uri": "https://localhost:8080/"
        },
        "id": "YzMTpMGLY8os",
        "outputId": "b7290fa4-2d45-4853-e1d9-f0b5a669b456"
      },
      "execution_count": null,
      "outputs": [
        {
          "output_type": "execute_result",
          "data": {
            "text/plain": [
              "<chromadb.api.client.Client at 0x7808f5e12ce0>"
            ]
          },
          "metadata": {},
          "execution_count": 3
        }
      ]
    },
    {
      "cell_type": "code",
      "source": [
        "# create chromadb collection\n",
        "\n",
        "collection = client.create_collection(\"my_collection\")"
      ],
      "metadata": {
        "id": "jHOdAbDDZP6S"
      },
      "execution_count": null,
      "outputs": []
    },
    {
      "cell_type": "code",
      "source": [
        "# add data to chromadb collection\n",
        "\n",
        "cricket_news = \"\"\"\n",
        "The T20 World Cup 2024 is in full swing, bringing excitement and drama to cricket fans worldwide.\n",
        "India's team, captained by Rohit Sharma, is preparing for a crucial match against Ireland, with standout player Jasprit Bumrah expected to play a pivotal role in their campaign.\n",
        "The tournament has already seen controversy, particularly concerning the pitch conditions at Nassau County International Cricket Stadium in New York, which came under fire after a low-scoring game between Sri Lanka and South Africa.\n",
        "\"\"\"\n",
        "\n",
        "football_news = \"\"\"\n",
        "The world of football is buzzing with excitement as major tournaments and league matches continue to captivate fans globally.\n",
        "In the UEFA Champions League, the semi-final matchups have been set, with defending champions Real Madrid set to face Manchester City, while Bayern Munich will take on Paris Saint-Germain.\n",
        "Both ties promise thrilling encounters, featuring some of the best talents in world football.\n",
        "\"\"\"\n",
        "\n",
        "election_news = \"\"\"\n",
        "As election season heats up, the latest developments reveal a highly competitive atmosphere across several key races.\n",
        "The presidential election has seen intense campaigning from all major candidates, with recent polls indicating a tight race.\n",
        "Incumbent President Jane Doe is seeking re-election on a platform of economic stability and healthcare reform, while her main rival, Senator John Smith, focuses on education and climate change initiatives.\"\"\"\n",
        "\n",
        "\n",
        "ai_revolution_news = \"\"\"\n",
        "The AI revolution continues to transform industries and reshape the global economy.\n",
        "Significant advancements in artificial intelligence have led to breakthroughs in healthcare, with AI-driven diagnostics improving patient outcomes and reducing costs.\n",
        "Autonomous systems are becoming increasingly prevalent in logistics and transportation, enhancing efficiency and safety.\"\"\"\n",
        "\n"
      ],
      "metadata": {
        "id": "aVBLu9tDZ5Xg"
      },
      "execution_count": null,
      "outputs": []
    },
    {
      "cell_type": "code",
      "source": [
        "collection.add(\n",
        "    documents = [cricket_news, football_news, election_news, ai_revolution_news],\n",
        "    metadatas = [{\"source\": \"cricket\"},{\"source\": \"football\"},{'source':'election'},{\"source\":\"ai revolution\"}],\n",
        "    ids = [\"id1\", \"id2\", \"id3\", \"id4\"]\n",
        ")"
      ],
      "metadata": {
        "colab": {
          "base_uri": "https://localhost:8080/"
        },
        "id": "Yt-vJOBdaglb",
        "outputId": "4e72b098-5a70-4c63-beb8-4f39c9a1ded6"
      },
      "execution_count": null,
      "outputs": [
        {
          "output_type": "stream",
          "name": "stderr",
          "text": [
            "/root/.cache/chroma/onnx_models/all-MiniLM-L6-v2/onnx.tar.gz: 100%|██████████| 79.3M/79.3M [00:02<00:00, 36.2MiB/s]\n"
          ]
        }
      ]
    },
    {
      "cell_type": "markdown",
      "source": [
        "### Similarity Search"
      ],
      "metadata": {
        "id": "t0DFy6Geb7In"
      }
    },
    {
      "cell_type": "code",
      "source": [
        "\n",
        "results = collection.query(\n",
        "    query_texts=[\"technology\"],\n",
        "    n_results=2\n",
        ")\n",
        "\n",
        "results\n"
      ],
      "metadata": {
        "colab": {
          "base_uri": "https://localhost:8080/"
        },
        "id": "G9hZ6nSOa9gf",
        "outputId": "172a79ad-15ef-4be7-aef6-65c18ef512ac"
      },
      "execution_count": null,
      "outputs": [
        {
          "output_type": "execute_result",
          "data": {
            "text/plain": [
              "{'ids': [['id4', 'id1']],\n",
              " 'distances': [[1.5124857425689697, 1.699276089668274]],\n",
              " 'metadatas': [[{'source': 'ai revolution'}, {'source': 'cricket'}]],\n",
              " 'embeddings': None,\n",
              " 'documents': [['\\nThe AI revolution continues to transform industries and reshape the global economy.\\nSignificant advancements in artificial intelligence have led to breakthroughs in healthcare, with AI-driven diagnostics improving patient outcomes and reducing costs.\\nAutonomous systems are becoming increasingly prevalent in logistics and transportation, enhancing efficiency and safety.',\n",
              "   \"\\nThe T20 World Cup 2024 is in full swing, bringing excitement and drama to cricket fans worldwide.\\nIndia's team, captained by Rohit Sharma, is preparing for a crucial match against Ireland, with standout player Jasprit Bumrah expected to play a pivotal role in their campaign.\\nThe tournament has already seen controversy, particularly concerning the pitch conditions at Nassau County International Cricket Stadium in New York, which came under fire after a low-scoring game between Sri Lanka and South Africa.\\n\"]],\n",
              " 'uris': None,\n",
              " 'data': None,\n",
              " 'included': ['metadatas', 'documents', 'distances']}"
            ]
          },
          "metadata": {},
          "execution_count": 7
        }
      ]
    },
    {
      "cell_type": "code",
      "source": [
        "collection.count()"
      ],
      "metadata": {
        "colab": {
          "base_uri": "https://localhost:8080/"
        },
        "id": "44ID8ZcDbaSn",
        "outputId": "e02d7036-fd9e-4852-92e4-bf4b9fa6a00b"
      },
      "execution_count": null,
      "outputs": [
        {
          "output_type": "execute_result",
          "data": {
            "text/plain": [
              "4"
            ]
          },
          "metadata": {},
          "execution_count": 8
        }
      ]
    },
    {
      "cell_type": "markdown",
      "source": [
        "### CRUD operations on Vector Database"
      ],
      "metadata": {
        "id": "qfWKg0UGcHaF"
      }
    },
    {
      "cell_type": "code",
      "source": [
        "# add data\n",
        "\n",
        "blockchain_news = \"\"\"\n",
        "The blockchain industry continues to evolve rapidly, marked by significant technological advancements and regulatory developments.\n",
        "This month, the spotlight is on the launch of Ethereum 3.0, which promises enhanced scalability and security features.\n",
        "This upgrade is expected to drastically reduce transaction fees and increase processing speeds, making decentralized applications (dApps) more efficient and user-friendly.\n",
        "\"\"\"\n"
      ],
      "metadata": {
        "id": "_yeSppFHbuR_"
      },
      "execution_count": null,
      "outputs": []
    },
    {
      "cell_type": "code",
      "source": [
        "collection.add(\n",
        "    documents = [blockchain_news],\n",
        "    metadatas = [{\"source\": \"blockchain\"}],\n",
        "    ids = [\"id5\"]\n",
        ")"
      ],
      "metadata": {
        "id": "OSs2fwJfceRW"
      },
      "execution_count": null,
      "outputs": []
    },
    {
      "cell_type": "code",
      "source": [
        "collection.count()"
      ],
      "metadata": {
        "colab": {
          "base_uri": "https://localhost:8080/"
        },
        "id": "0DMS7TkJcig3",
        "outputId": "4f3526f2-22ed-47cb-d425-afa168a310b0"
      },
      "execution_count": null,
      "outputs": [
        {
          "output_type": "execute_result",
          "data": {
            "text/plain": [
              "5"
            ]
          },
          "metadata": {},
          "execution_count": 11
        }
      ]
    },
    {
      "cell_type": "code",
      "source": [
        "results = collection.query(\n",
        "    query_texts=[\"technology\"],\n",
        "    n_results=2\n",
        ")\n",
        "\n",
        "results"
      ],
      "metadata": {
        "colab": {
          "base_uri": "https://localhost:8080/"
        },
        "id": "XlrZMdjKcshI",
        "outputId": "ea7259eb-a70f-4177-cfc6-d83dae08db82"
      },
      "execution_count": null,
      "outputs": [
        {
          "output_type": "execute_result",
          "data": {
            "text/plain": [
              "{'ids': [['id4', 'id1']],\n",
              " 'distances': [[1.5124857425689697, 1.699276089668274]],\n",
              " 'metadatas': [[{'source': 'ai revolution'}, {'source': 'cricket'}]],\n",
              " 'embeddings': None,\n",
              " 'documents': [['\\nThe AI revolution continues to transform industries and reshape the global economy.\\nSignificant advancements in artificial intelligence have led to breakthroughs in healthcare, with AI-driven diagnostics improving patient outcomes and reducing costs.\\nAutonomous systems are becoming increasingly prevalent in logistics and transportation, enhancing efficiency and safety.',\n",
              "   \"\\nThe T20 World Cup 2024 is in full swing, bringing excitement and drama to cricket fans worldwide.\\nIndia's team, captained by Rohit Sharma, is preparing for a crucial match against Ireland, with standout player Jasprit Bumrah expected to play a pivotal role in their campaign.\\nThe tournament has already seen controversy, particularly concerning the pitch conditions at Nassau County International Cricket Stadium in New York, which came under fire after a low-scoring game between Sri Lanka and South Africa.\\n\"]],\n",
              " 'uris': None,\n",
              " 'data': None,\n",
              " 'included': ['metadatas', 'documents', 'distances']}"
            ]
          },
          "metadata": {},
          "execution_count": 12
        }
      ]
    },
    {
      "cell_type": "code",
      "source": [
        "# Read data\n",
        "\n",
        "res = collection.get()\n",
        "res\n"
      ],
      "metadata": {
        "colab": {
          "base_uri": "https://localhost:8080/"
        },
        "id": "yFi7adHqdSzq",
        "outputId": "84ed63b8-bd43-4dce-eb06-5ad4e4de4bdd"
      },
      "execution_count": null,
      "outputs": [
        {
          "output_type": "execute_result",
          "data": {
            "text/plain": [
              "{'ids': ['id1', 'id2', 'id3', 'id4', 'id5'],\n",
              " 'embeddings': None,\n",
              " 'metadatas': [{'source': 'cricket'},\n",
              "  {'source': 'football'},\n",
              "  {'source': 'election'},\n",
              "  {'source': 'ai revolution'},\n",
              "  {'source': 'blockchain'}],\n",
              " 'documents': [\"\\nThe T20 World Cup 2024 is in full swing, bringing excitement and drama to cricket fans worldwide.\\nIndia's team, captained by Rohit Sharma, is preparing for a crucial match against Ireland, with standout player Jasprit Bumrah expected to play a pivotal role in their campaign.\\nThe tournament has already seen controversy, particularly concerning the pitch conditions at Nassau County International Cricket Stadium in New York, which came under fire after a low-scoring game between Sri Lanka and South Africa.\\n\",\n",
              "  '\\nThe world of football is buzzing with excitement as major tournaments and league matches continue to captivate fans globally.\\nIn the UEFA Champions League, the semi-final matchups have been set, with defending champions Real Madrid set to face Manchester City, while Bayern Munich will take on Paris Saint-Germain.\\nBoth ties promise thrilling encounters, featuring some of the best talents in world football.\\n',\n",
              "  '\\nAs election season heats up, the latest developments reveal a highly competitive atmosphere across several key races.\\nThe presidential election has seen intense campaigning from all major candidates, with recent polls indicating a tight race.\\nIncumbent President Jane Doe is seeking re-election on a platform of economic stability and healthcare reform, while her main rival, Senator John Smith, focuses on education and climate change initiatives.',\n",
              "  '\\nThe AI revolution continues to transform industries and reshape the global economy.\\nSignificant advancements in artificial intelligence have led to breakthroughs in healthcare, with AI-driven diagnostics improving patient outcomes and reducing costs.\\nAutonomous systems are becoming increasingly prevalent in logistics and transportation, enhancing efficiency and safety.',\n",
              "  '\\nThe blockchain industry continues to evolve rapidly, marked by significant technological advancements and regulatory developments.\\nThis month, the spotlight is on the launch of Ethereum 3.0, which promises enhanced scalability and security features.\\nThis upgrade is expected to drastically reduce transaction fees and increase processing speeds, making decentralized applications (dApps) more efficient and user-friendly.\\n'],\n",
              " 'uris': None,\n",
              " 'data': None,\n",
              " 'included': ['metadatas', 'documents']}"
            ]
          },
          "metadata": {},
          "execution_count": 13
        }
      ]
    },
    {
      "cell_type": "code",
      "source": [
        "res = collection.get(ids=[\"id1\", \"id3\"])\n",
        "res"
      ],
      "metadata": {
        "colab": {
          "base_uri": "https://localhost:8080/"
        },
        "id": "ipKQavg-dkE_",
        "outputId": "a845f1c1-5449-48c1-afcd-6fe6dde71033"
      },
      "execution_count": null,
      "outputs": [
        {
          "output_type": "execute_result",
          "data": {
            "text/plain": [
              "{'ids': ['id1', 'id3'],\n",
              " 'embeddings': None,\n",
              " 'metadatas': [{'source': 'cricket'}, {'source': 'election'}],\n",
              " 'documents': [\"\\nThe T20 World Cup 2024 is in full swing, bringing excitement and drama to cricket fans worldwide.\\nIndia's team, captained by Rohit Sharma, is preparing for a crucial match against Ireland, with standout player Jasprit Bumrah expected to play a pivotal role in their campaign.\\nThe tournament has already seen controversy, particularly concerning the pitch conditions at Nassau County International Cricket Stadium in New York, which came under fire after a low-scoring game between Sri Lanka and South Africa.\\n\",\n",
              "  '\\nAs election season heats up, the latest developments reveal a highly competitive atmosphere across several key races.\\nThe presidential election has seen intense campaigning from all major candidates, with recent polls indicating a tight race.\\nIncumbent President Jane Doe is seeking re-election on a platform of economic stability and healthcare reform, while her main rival, Senator John Smith, focuses on education and climate change initiatives.'],\n",
              " 'uris': None,\n",
              " 'data': None,\n",
              " 'included': ['metadatas', 'documents']}"
            ]
          },
          "metadata": {},
          "execution_count": 14
        }
      ]
    },
    {
      "cell_type": "code",
      "source": [
        "# update data\n",
        "\n",
        "collection.update(\n",
        "    ids=[\"id3\"],\n",
        "    documents=[\"This is sample document about generative AI\"],\n",
        "    metadatas=[{\"source\": \"gen ai\"}],\n",
        ")"
      ],
      "metadata": {
        "id": "8O8WAlDhd0GJ"
      },
      "execution_count": null,
      "outputs": []
    },
    {
      "cell_type": "code",
      "source": [
        "res = collection.get(ids=[\"id3\"])\n",
        "res"
      ],
      "metadata": {
        "colab": {
          "base_uri": "https://localhost:8080/"
        },
        "id": "BqsSulfkeMjS",
        "outputId": "90585e47-dffc-4ea4-d1d7-7e6d401f9f10"
      },
      "execution_count": null,
      "outputs": [
        {
          "output_type": "execute_result",
          "data": {
            "text/plain": [
              "{'ids': ['id3'],\n",
              " 'embeddings': None,\n",
              " 'metadatas': [{'source': 'gen ai'}],\n",
              " 'documents': ['This is sample document about generative AI'],\n",
              " 'uris': None,\n",
              " 'data': None,\n",
              " 'included': ['metadatas', 'documents']}"
            ]
          },
          "metadata": {},
          "execution_count": 16
        }
      ]
    },
    {
      "cell_type": "code",
      "source": [
        "# delete data\n",
        "\n",
        "collection.delete(ids = ['id2'])"
      ],
      "metadata": {
        "id": "x7czNNyNeP0T"
      },
      "execution_count": null,
      "outputs": []
    },
    {
      "cell_type": "code",
      "source": [
        "\n",
        "collection.count()"
      ],
      "metadata": {
        "colab": {
          "base_uri": "https://localhost:8080/"
        },
        "id": "nx1fvA9wkBT0",
        "outputId": "c13fb3d8-cf77-4251-a4e2-4f9432600508"
      },
      "execution_count": null,
      "outputs": [
        {
          "output_type": "execute_result",
          "data": {
            "text/plain": [
              "4"
            ]
          },
          "metadata": {},
          "execution_count": 18
        }
      ]
    },
    {
      "cell_type": "code",
      "source": [
        "collection.get()"
      ],
      "metadata": {
        "colab": {
          "base_uri": "https://localhost:8080/"
        },
        "id": "4hL6dvibkEfg",
        "outputId": "c015f131-f37f-42e6-d99a-8bda62d05158"
      },
      "execution_count": null,
      "outputs": [
        {
          "output_type": "execute_result",
          "data": {
            "text/plain": [
              "{'ids': ['id1', 'id3', 'id4', 'id5'],\n",
              " 'embeddings': None,\n",
              " 'metadatas': [{'source': 'cricket'},\n",
              "  {'source': 'gen ai'},\n",
              "  {'source': 'ai revolution'},\n",
              "  {'source': 'blockchain'}],\n",
              " 'documents': [\"\\nThe T20 World Cup 2024 is in full swing, bringing excitement and drama to cricket fans worldwide.\\nIndia's team, captained by Rohit Sharma, is preparing for a crucial match against Ireland, with standout player Jasprit Bumrah expected to play a pivotal role in their campaign.\\nThe tournament has already seen controversy, particularly concerning the pitch conditions at Nassau County International Cricket Stadium in New York, which came under fire after a low-scoring game between Sri Lanka and South Africa.\\n\",\n",
              "  'This is sample document about generative AI',\n",
              "  '\\nThe AI revolution continues to transform industries and reshape the global economy.\\nSignificant advancements in artificial intelligence have led to breakthroughs in healthcare, with AI-driven diagnostics improving patient outcomes and reducing costs.\\nAutonomous systems are becoming increasingly prevalent in logistics and transportation, enhancing efficiency and safety.',\n",
              "  '\\nThe blockchain industry continues to evolve rapidly, marked by significant technological advancements and regulatory developments.\\nThis month, the spotlight is on the launch of Ethereum 3.0, which promises enhanced scalability and security features.\\nThis upgrade is expected to drastically reduce transaction fees and increase processing speeds, making decentralized applications (dApps) more efficient and user-friendly.\\n'],\n",
              " 'uris': None,\n",
              " 'data': None,\n",
              " 'included': ['metadatas', 'documents']}"
            ]
          },
          "metadata": {},
          "execution_count": 19
        }
      ]
    }
  ]
}